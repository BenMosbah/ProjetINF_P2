{
 "cells": [
  {
   "cell_type": "markdown",
   "metadata": {},
   "source": [
    "Importing data "
   ]
  },
  {
   "cell_type": "code",
   "execution_count": 11,
   "metadata": {
    "collapsed": true
   },
   "outputs": [],
   "source": [
    "import numpy as np\n",
    "import pandas as pd\n",
    "## edit the link to be shorter and accessible from root folder\n",
    "train = pd.read_csv(\"data/train.csv\",header=None,names=['PairNb','Q1id','Q2id','Q1RT','Q2RT','label'])\n",
    "test = pd.read_csv(\"data/test.csv\",header=None,names=['PairNb','Q1id','Q2id','Q1RT','Q2RT','label'])"
   ]
  },
  {
   "cell_type": "markdown",
   "metadata": {},
   "source": [
    "Remarque : Les données fournies ont l'air complètes et il y a pas l'air d'y avoir des fautes d'orthographe."
   ]
  },
  {
   "cell_type": "markdown",
   "metadata": {},
   "source": [
    "Implementing a first method : Random forest with basic features"
   ]
  },
  {
   "cell_type": "code",
   "execution_count": 5,
   "metadata": {
    "collapsed": true
   },
   "outputs": [],
   "source": [
    "#Defining the metric that they want us to use : weighted_log_loss\n",
    "def weighted_log_loss(y_true, y_pred):\n",
    "    a = 0.165/0.37\n",
    "    b = (1-0.165)/(1-0.37)\n",
    "    score = a*y_true*np.log(y_pred+0.00001) + b*(1.0 - y_true)*np.log(1.0 - y_pred+0.00001)\n",
    "    return -np.mean(score)"
   ]
  },
  {
   "cell_type": "code",
   "execution_count": 6,
   "metadata": {},
   "outputs": [],
   "source": [
    "#Getting the raw features that we will be working on :\n",
    "train_X, train_y = train.iloc[:,:-1], train.iloc[:,-1]\n",
    "test_X = test.iloc[:,:-1]"
   ]
  },
  {
   "cell_type": "code",
   "execution_count": 7,
   "metadata": {
    "collapsed": true
   },
   "outputs": [],
   "source": [
    "#Defining functions that will be used to compute the \"basic\" features\n",
    "#Premier essai de feature engineering:\n",
    "def words(qn):\n",
    "    \"\"\"\n",
    "    Returns the number of words in a question\n",
    "    \"\"\"\n",
    "    return len(qn.split())\n",
    "\n",
    "def avg_word_length(qn):\n",
    "    \"\"\"\n",
    "    Tabulates the average word length in a question\n",
    "    \"\"\"\n",
    "    words = qn.split()\n",
    "    return sum([len(word) for word in words])/len(words) if len(words) != 0 else 0\n",
    "\n",
    "def char_count(qn):\n",
    "    \"\"\"\n",
    "    Counts the total number of letters in a question\n",
    "    \"\"\"\n",
    "    return sum([len(word) for word in qn.split()])\n",
    "\n",
    "def caps_count(qn):\n",
    "    \"\"\"\n",
    "    Counts the number of capital letters in a question, \n",
    "    only checking the first word of each sentence\n",
    "    \"\"\"\n",
    "    words = qn.split()\n",
    "    return sum([1 for word in words if word[0].isupper()])\n",
    "\n",
    "# Jaccard Similiarity Coefficient\n",
    "# Obtain the Jaccard Similiarity Coeefficient between 2 questions\n",
    "# (X intersect Y) / (X union Y)\n",
    "# Bag Of Words, which is the list of unique words in the document, with no frequency count.\n",
    "def jaccard_index(row):\n",
    "    \"\"\"\n",
    "    Obtain the Jaccard Similarity Coefficient which essentially is represented\n",
    "    by: (X intersect Y) / (X union Y). Done using the Bag Of Words, \n",
    "    which is the list of unique words in the document, with no frequency count involved. \n",
    "    \n",
    "    Input\n",
    "    ------\n",
    "    row: the row with both questions 1 and 2.\n",
    "    \n",
    "    Returns\n",
    "    -------\n",
    "    index: the Jaccard index (AKA Similarity Coefficient)\n",
    "    \"\"\"\n",
    "    q1 = set(row['Q1RT'].split())\n",
    "    q2 = set(row['Q2RT'].split())\n",
    "    index = 1.0\n",
    "    index = (float(len(q1.intersection(q2))) \n",
    "             / len(q1.union(q2)))\n",
    "    return index\n",
    "    \n",
    "\n",
    "def levenshtein(dataframe):\n",
    "    \"\"\"\n",
    "    Obtain the Levensthein distance between the two questions.\n",
    "    Levensthein distance is another similarity index like Jaccard. \n",
    "    \"\"\"\n",
    "    return leven.distance(dataframe['Q1RT'], dataframe['Q2RT'])"
   ]
  },
  {
   "cell_type": "code",
   "execution_count": 8,
   "metadata": {
    "collapsed": true
   },
   "outputs": [],
   "source": [
    "#Defining the function used to calculating the classic features and doing so :\n",
    "def feature_engineering_classic(df, which):\n",
    "    if which == \"train\":\n",
    "        qns_set = df.iloc[:,3:5] \n",
    "        q1 = qns_set.iloc[:,0]\n",
    "        q2 = qns_set.iloc[:,1]\n",
    "    elif which == \"test\":\n",
    "        qns_set = df.iloc[:,3:5]\n",
    "        q1 = qns_set.iloc[:,0]\n",
    "        q2 = qns_set.iloc[:,1]    \n",
    "\n",
    "    # Creating new features using Feature Engineering\n",
    "    word_len_diff = abs(q1.apply(words) - q2.apply(words))\n",
    "    avg_word_len_diff = abs(q1.apply(avg_word_length) - q2.apply(avg_word_length))\n",
    "    char_diff = abs(q1.apply(char_count) - q2.apply(char_count))\n",
    "    caps_diff = abs(q1.apply(caps_count) - q2.apply(caps_count))\n",
    "    jaccard = qns_set.apply(jaccard_index, axis=1)\n",
    "    #leven_dist = qns_set.apply(levenshtein, axis=1)\n",
    "\n",
    "    # Creating a new dataframe with values of new feature\n",
    "    classic_feat = pd.DataFrame({'word_len_diff': word_len_diff, 'avg_word_len_diff': avg_word_len_diff, \n",
    "                                 'char_diff': char_diff, 'caps_diff': caps_diff, 'jaccard': jaccard}) \n",
    "                                 #'leven_dist': leven_dist})\n",
    "    return classic_feat\n",
    "\n",
    "# classic features for Random Forests classifier\n",
    "classic_train_X = feature_engineering_classic(train_X, \"train\")\n",
    "classic_test_X = feature_engineering_classic(test_X, \"test\")"
   ]
  },
  {
   "cell_type": "code",
   "execution_count": 12,
   "metadata": {},
   "outputs": [
    {
     "name": "stdout",
     "output_type": "stream",
     "text": [
      "Random Forests Classifier log loss error: -3.4220341932483875\n"
     ]
    }
   ],
   "source": [
    "#Training the Random Forest\n",
    "import itertools as itertools\n",
    "import sklearn as skl\n",
    "import nltk\n",
    "\n",
    "from sklearn.model_selection import train_test_split, cross_val_score, GridSearchCV, RandomizedSearchCV, KFold\n",
    "from sklearn.ensemble import RandomForestClassifier\n",
    "from sklearn.metrics import accuracy_score, mean_squared_error, make_scorer, confusion_matrix\n",
    "\n",
    "# Cross validation with Grid Search to optimize hyper parameters\n",
    "cv_sets = KFold(n_splits=10, random_state=0)\n",
    "scorer = make_scorer(weighted_log_loss, greater_is_better=False)\n",
    "\n",
    "# varying class_weight to penalize False Positives more \n",
    "grid = GridSearchCV(RandomForestClassifier(200, random_state=0),\n",
    "                        scoring=scorer,\n",
    "                        cv = cv_sets,\n",
    "                        param_grid={\"class_weight\": [{0:100, 1:1}, {0:10, 1:1}, {0:1, 1:1}]})\n",
    "\n",
    "# Training Random Forest Classifier with full training dataset\n",
    "grid.fit(classic_train_X, train_y)\n",
    "print(\"Random Forests Classifier log loss error: {}\".format(grid.best_score_))"
   ]
  },
  {
   "cell_type": "code",
   "execution_count": null,
   "metadata": {
    "collapsed": true
   },
   "outputs": [],
   "source": [
    "# generate predictions and submit on kaggle\n",
    "prob_y = grid.predict_proba(classic_test_X)\n",
    "\n",
    "submission = pd.DataFrame()\n",
    "submission['Id'] = test_X['PairNb']\n",
    "submission['Score'] = prob_y[:,1]\n",
    "submission.to_csv(\"submissions/submission_rf.csv\", index=False)\n",
    "#C'est de la merde, ça fait un score de 0,8 alors que la baseline est à 0.6..."
   ]
  }
 ],
 "metadata": {
  "kernelspec": {
   "display_name": "Python 3",
   "language": "python",
   "name": "python3"
  },
  "language_info": {
   "codemirror_mode": {
    "name": "ipython",
    "version": 3
   },
   "file_extension": ".py",
   "mimetype": "text/x-python",
   "name": "python",
   "nbconvert_exporter": "python",
   "pygments_lexer": "ipython3",
   "version": "3.6.2"
  }
 },
 "nbformat": 4,
 "nbformat_minor": 2
}

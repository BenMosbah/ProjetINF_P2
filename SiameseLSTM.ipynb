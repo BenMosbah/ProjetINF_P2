{
 "cells": [
  {
   "cell_type": "markdown",
   "metadata": {},
   "source": [
    "Importing data "
   ]
  },
  {
   "cell_type": "code",
   "execution_count": 1,
   "metadata": {},
   "outputs": [],
   "source": [
    "import numpy as np\n",
    "import pandas as pd\n",
    "## edit the link to be shorter and accessible from root folder\n",
    "train = pd.read_csv(\"data/train.csv\",header=None,names=['PairNb','Q1id','Q2id','Q1RT','Q2RT','label'])\n",
    "test = pd.read_csv(\"data/test.csv\",header=None,names=['PairNb','Q1id','Q2id','Q1RT','Q2RT','label'])"
   ]
  },
  {
   "cell_type": "markdown",
   "metadata": {},
   "source": [
    "Remarque : Les données fournies ont l'air complètes et il y a pas l'air d'y avoir des fautes d'orthographe."
   ]
  },
  {
   "cell_type": "markdown",
   "metadata": {},
   "source": [
    "Implementing a second method : Siamese LSTM"
   ]
  },
  {
   "cell_type": "code",
   "execution_count": 2,
   "metadata": {},
   "outputs": [],
   "source": [
    "#Getting the raw features that we will be working on :\n",
    "train_X, train_y = train.iloc[:,:-1], train.iloc[:,-1]\n",
    "test_X = test.iloc[:,:-1]"
   ]
  },
  {
   "cell_type": "code",
   "execution_count": 3,
   "metadata": {},
   "outputs": [],
   "source": [
    "#Text cleaning method. Proposée par Elior Cohen (il faudrait voir ce que c'est)\n",
    "import re\n",
    "def text2word(text):\n",
    "    text = str(text).lower()\n",
    "\n",
    "    # Text cleaning\n",
    "    text = re.sub(r\"[^A-Za-z0-9^,!.\\/'+-=]\", \" \", text)\n",
    "    text = re.sub(r\"what's\", \"what is \", text)\n",
    "    text = re.sub(r\"\\'s\", \" \", text)\n",
    "    text = re.sub(r\"\\'ve\", \" have \", text)\n",
    "    text = re.sub(r\"can't\", \"cannot \", text)\n",
    "    text = re.sub(r\"n't\", \" not \", text)\n",
    "    text = re.sub(r\"i'm\", \"i am \", text)\n",
    "    text = re.sub(r\"\\'re\", \" are \", text)\n",
    "    text = re.sub(r\"\\'d\", \" would \", text)\n",
    "    text = re.sub(r\"\\'ll\", \" will \", text)\n",
    "    text = re.sub(r\",\", \" \", text)\n",
    "    text = re.sub(r\"\\.\", \" \", text)\n",
    "    text = re.sub(r\"!\", \" ! \", text)\n",
    "    text = re.sub(r\"\\/\", \" \", text)\n",
    "    text = re.sub(r\"\\^\", \" ^ \", text)\n",
    "    text = re.sub(r\"\\+\", \" + \", text)\n",
    "    text = re.sub(r\"\\-\", \" - \", text)\n",
    "    text = re.sub(r\"\\=\", \" = \", text)\n",
    "    text = re.sub(r\"'\", \" \", text)\n",
    "    text = re.sub(r\":\", \" : \", text)\n",
    "    text = re.sub(r\" e g \", \" eg \", text)\n",
    "    text = re.sub(r\" b g \", \" bg \", text)\n",
    "    text = re.sub(r\" u s \", \" american \", text)\n",
    "    text = re.sub(r\"\\0s\", \"0\", text)\n",
    "    text = re.sub(r\" 9 11 \", \"911\", text)\n",
    "    text = re.sub(r\"e - mail\", \"email\", text)\n",
    "    text = re.sub(r\"e-mail\", \"email\", text)\n",
    "    text = re.sub(r\"j k\", \"jk\", text)\n",
    "    text = text.split()\n",
    "    return text"
   ]
  },
  {
   "cell_type": "code",
   "execution_count": 4,
   "metadata": {},
   "outputs": [],
   "source": [
    "#Loading the embedding file (we use GoogleNews)\n",
    "embedding_file = \"GoogleNews-vectors-negative300.bin.gz\""
   ]
  },
  {
   "cell_type": "code",
   "execution_count": 5,
   "metadata": {},
   "outputs": [
    {
     "name": "stderr",
     "output_type": "stream",
     "text": [
      "/home/benmosbahmohamed/miniconda3/lib/python3.7/site-packages/ipykernel_launcher.py:30: FutureWarning: set_value is deprecated and will be removed in a future release. Please use .at[] or .iat[] accessors instead\n"
     ]
    }
   ],
   "source": [
    "from nltk.corpus import stopwords\n",
    "from gensim.models import KeyedVectors\n",
    "# Prepare vocabulary and look up list\n",
    "vocabulary = dict()\n",
    "inverse_vocabulary = ['<unk>']  # placeholder for the [0, 0, ....0] embedding / padding\n",
    "word2vec = KeyedVectors.load_word2vec_format(embedding_file, binary=True)\n",
    "stops = set(stopwords.words(\"english\"))\n",
    "\n",
    "questions_cols = ['Q1RT', 'Q2RT']\n",
    "\n",
    "# Iterate over the questions only of the training dataset\n",
    "for dataset in [train_X, test_X]:\n",
    "    for index, row in dataset.iterrows():\n",
    "        # Iterate through the text of both questions of the row\n",
    "        for question in questions_cols:\n",
    "            q2n = []  # q2n -> question to numbers representation\n",
    "            for word in text2word(row[question]):\n",
    "                # Check for unwanted words\n",
    "                if word in stops and word not in word2vec.vocab:\n",
    "                    continue\n",
    "                # add new word into vocabulary and assign look up tables with both word & number\n",
    "                if word not in vocabulary:\n",
    "                    vocabulary[word] = len(inverse_vocabulary)\n",
    "                    q2n.append(len(inverse_vocabulary))\n",
    "                    inverse_vocabulary.append(word)\n",
    "                else:\n",
    "                    q2n.append(vocabulary[word])\n",
    "\n",
    "            # Replace questions with number representations from vocabulary look-up table\n",
    "            dataset.set_value(index, question, q2n)\n",
    "\n",
    "embedding_dim = 300\n",
    "# This will be the embedding matrix, generated from gaussian distribution for words that do not appear at all. (default values)\n",
    "embeddings = 1 * np.random.randn(len(vocabulary) + 1, embedding_dim)  \n",
    "embeddings[0] = 0  # So that the padding will be ignored"
   ]
  },
  {
   "cell_type": "code",
   "execution_count": 6,
   "metadata": {},
   "outputs": [
    {
     "data": {
      "text/html": [
       "<div>\n",
       "<style scoped>\n",
       "    .dataframe tbody tr th:only-of-type {\n",
       "        vertical-align: middle;\n",
       "    }\n",
       "\n",
       "    .dataframe tbody tr th {\n",
       "        vertical-align: top;\n",
       "    }\n",
       "\n",
       "    .dataframe thead th {\n",
       "        text-align: right;\n",
       "    }\n",
       "</style>\n",
       "<table border=\"1\" class=\"dataframe\">\n",
       "  <thead>\n",
       "    <tr style=\"text-align: right;\">\n",
       "      <th></th>\n",
       "      <th>PairNb</th>\n",
       "      <th>Q1id</th>\n",
       "      <th>Q2id</th>\n",
       "      <th>Q1RT</th>\n",
       "      <th>Q2RT</th>\n",
       "    </tr>\n",
       "  </thead>\n",
       "  <tbody>\n",
       "    <tr>\n",
       "      <th>0</th>\n",
       "      <td>0</td>\n",
       "      <td>199954</td>\n",
       "      <td>384085</td>\n",
       "      <td>[1, 2, 3, 4, 3, 5, 6]</td>\n",
       "      <td>[1, 2, 4, 3, 7, 6, 8, 9, 10, 2, 11, 12]</td>\n",
       "    </tr>\n",
       "    <tr>\n",
       "      <th>1</th>\n",
       "      <td>1</td>\n",
       "      <td>128681</td>\n",
       "      <td>237407</td>\n",
       "      <td>[1, 2, 3, 13, 14, 15, 16, 17, 18]</td>\n",
       "      <td>[1, 2, 4, 19, 13, 20, 21, 22, 18, 23]</td>\n",
       "    </tr>\n",
       "    <tr>\n",
       "      <th>2</th>\n",
       "      <td>2</td>\n",
       "      <td>170846</td>\n",
       "      <td>240621</td>\n",
       "      <td>[24, 3, 25, 26, 27, 28, 29, 30, 31, 3, 32, 33,...</td>\n",
       "      <td>[36, 21, 3, 37, 26, 29, 38, 3, 32, 33]</td>\n",
       "    </tr>\n",
       "    <tr>\n",
       "      <th>3</th>\n",
       "      <td>3</td>\n",
       "      <td>55110</td>\n",
       "      <td>177468</td>\n",
       "      <td>[39, 40, 41, 24, 42, 43]</td>\n",
       "      <td>[10, 39, 40, 24, 42, 43]</td>\n",
       "    </tr>\n",
       "    <tr>\n",
       "      <th>4</th>\n",
       "      <td>4</td>\n",
       "      <td>425513</td>\n",
       "      <td>400256</td>\n",
       "      <td>[1, 44, 45, 14, 16, 46, 47, 16, 48, 49]</td>\n",
       "      <td>[1, 50, 51, 52, 35, 53, 54, 48, 55, 56]</td>\n",
       "    </tr>\n",
       "  </tbody>\n",
       "</table>\n",
       "</div>"
      ],
      "text/plain": [
       "   PairNb    Q1id    Q2id                                               Q1RT  \\\n",
       "0       0  199954  384085                              [1, 2, 3, 4, 3, 5, 6]   \n",
       "1       1  128681  237407                  [1, 2, 3, 13, 14, 15, 16, 17, 18]   \n",
       "2       2  170846  240621  [24, 3, 25, 26, 27, 28, 29, 30, 31, 3, 32, 33,...   \n",
       "3       3   55110  177468                           [39, 40, 41, 24, 42, 43]   \n",
       "4       4  425513  400256            [1, 44, 45, 14, 16, 46, 47, 16, 48, 49]   \n",
       "\n",
       "                                      Q2RT  \n",
       "0  [1, 2, 4, 3, 7, 6, 8, 9, 10, 2, 11, 12]  \n",
       "1    [1, 2, 4, 19, 13, 20, 21, 22, 18, 23]  \n",
       "2   [36, 21, 3, 37, 26, 29, 38, 3, 32, 33]  \n",
       "3                 [10, 39, 40, 24, 42, 43]  \n",
       "4  [1, 50, 51, 52, 35, 53, 54, 48, 55, 56]  "
      ]
     },
     "execution_count": 6,
     "metadata": {},
     "output_type": "execute_result"
    }
   ],
   "source": [
    "#We check that Q1RT and Q2RT are now lists of numbers indicating which words from the vocabulary we built are being used in\n",
    "#the question\n",
    "train_X.head()"
   ]
  },
  {
   "cell_type": "code",
   "execution_count": 7,
   "metadata": {},
   "outputs": [],
   "source": [
    "# Build the embedding matrix\n",
    "for word, index in vocabulary.items():\n",
    "    if word in word2vec.vocab:\n",
    "        # adds in the embedding dimension's values per row from Google's pre-trained model\n",
    "        embeddings[index] = word2vec.word_vec(word)\n",
    "\n",
    "del word2vec # to not clog up memory on the system"
   ]
  },
  {
   "cell_type": "code",
   "execution_count": 8,
   "metadata": {},
   "outputs": [],
   "source": [
    "# To obtain the max length of the longest question in train/test datasets\n",
    "max_seq_length = max(train_X.Q1RT.map(lambda x: len(x)).max(),\n",
    "                     train_X.Q2RT.map(lambda x: len(x)).max(),\n",
    "                     test_X.Q1RT.map(lambda x: len(x)).max(),\n",
    "                     test_X.Q2RT.map(lambda x: len(x)).max())"
   ]
  },
  {
   "cell_type": "code",
   "execution_count": 9,
   "metadata": {},
   "outputs": [
    {
     "name": "stderr",
     "output_type": "stream",
     "text": [
      "Using TensorFlow backend.\n"
     ]
    }
   ],
   "source": [
    "import itertools as itertools\n",
    "import sklearn as skl\n",
    "import nltk\n",
    "from sklearn.model_selection import train_test_split\n",
    "#Preprocessing data to be fed into the siamese LSTM\n",
    "from keras.preprocessing.sequence import pad_sequences\n",
    "LSTM_train_X, LSTM_valid_X, LSTM_train_y, LSTM_valid_y = train_test_split(train_X, train_y, test_size=0.2)\n",
    "\n",
    "# Split to dictionaries for training, validation and test data\n",
    "LSTM_train_X = {'left': LSTM_train_X.Q1RT, 'right': LSTM_train_X.Q2RT}\n",
    "LSTM_valid_X = {'left': LSTM_valid_X.Q1RT, 'right': LSTM_valid_X.Q2RT}\n",
    "LSTM_test_X = {'left': test_X.Q1RT, 'right': test_X.Q2RT}\n",
    "\n",
    "# Convert y-values (labels) to their numpy representations\n",
    "LSTM_train_y = LSTM_train_y.values\n",
    "LSTM_valid_y = LSTM_valid_y.values\n",
    "\n",
    "# Zero padding\n",
    "for dataset, side in itertools.product([LSTM_train_X, LSTM_valid_X], ['left', 'right']):\n",
    "    dataset[side] = pad_sequences(dataset[side], maxlen=max_seq_length)\n",
    "\n",
    "# Checking consistent shapes for data using assert\n",
    "assert LSTM_train_X['left'].shape == LSTM_train_X['right'].shape # left and right columns are of the same length\n",
    "assert len(LSTM_train_X['left']) == len(LSTM_train_y) # check if number of rows tally"
   ]
  },
  {
   "cell_type": "code",
   "execution_count": 10,
   "metadata": {},
   "outputs": [],
   "source": [
    "#Defining the loss and the function used in the last layer of Siamese LSTM\n",
    "def weighted_log_loss(y_true, y_pred):\n",
    "    a = 0.165/0.37\n",
    "    b = (1-0.165)/(1-0.37)\n",
    "    score = a*y_true*K.log(y_pred+0.00001) + b*(1.0 - y_true)*K.log(1.0 - y_pred+0.00001)\n",
    "    return -K.mean(score)\n",
    "\n",
    "def exponent_neg_manhattan_distance(left, right):\n",
    "    return K.exp(-K.sum(K.abs(left-right), axis=1, keepdims=True))"
   ]
  },
  {
   "cell_type": "code",
   "execution_count": 12,
   "metadata": {},
   "outputs": [
    {
     "name": "stdout",
     "output_type": "stream",
     "text": [
      "__________________________________________________________________________________________________\n",
      "Layer (type)                    Output Shape         Param #     Connected to                     \n",
      "==================================================================================================\n",
      "input_3 (InputLayer)            (None, 67)           0                                            \n",
      "__________________________________________________________________________________________________\n",
      "input_4 (InputLayer)            (None, 67)           0                                            \n",
      "__________________________________________________________________________________________________\n",
      "embedding_2 (Embedding)         (None, 67, 300)      5807400     input_3[0][0]                    \n",
      "                                                                 input_4[0][0]                    \n",
      "__________________________________________________________________________________________________\n",
      "lstm_2 (LSTM)                   (None, 50)           70200       embedding_2[0][0]                \n",
      "                                                                 embedding_2[1][0]                \n",
      "__________________________________________________________________________________________________\n",
      "lambda_2 (Lambda)               (None, 1)            0           lstm_2[0][0]                     \n",
      "                                                                 lstm_2[1][0]                     \n",
      "==================================================================================================\n",
      "Total params: 5,877,600\n",
      "Trainable params: 70,200\n",
      "Non-trainable params: 5,807,400\n",
      "__________________________________________________________________________________________________\n",
      "None\n",
      "Train on 64080 samples, validate on 16020 samples\n",
      "Epoch 1/50\n",
      "64080/64080 [==============================] - 51s 796us/step - loss: 0.4748 - weighted_log_loss: 0.4748 - acc: 0.5514 - val_loss: 0.4241 - val_weighted_log_loss: 0.4241 - val_acc: 0.6452\n",
      "Epoch 2/50\n",
      "64080/64080 [==============================] - 50s 782us/step - loss: 0.3943 - weighted_log_loss: 0.3943 - acc: 0.6473 - val_loss: 0.3880 - val_weighted_log_loss: 0.3880 - val_acc: 0.6700\n",
      "Epoch 3/50\n",
      "64080/64080 [==============================] - 50s 773us/step - loss: 0.3669 - weighted_log_loss: 0.3669 - acc: 0.6876 - val_loss: 0.3749 - val_weighted_log_loss: 0.3749 - val_acc: 0.6828\n",
      "Epoch 4/50\n",
      "64080/64080 [==============================] - 49s 772us/step - loss: 0.3506 - weighted_log_loss: 0.3506 - acc: 0.7125 - val_loss: 0.3647 - val_weighted_log_loss: 0.3647 - val_acc: 0.7260\n",
      "Epoch 5/50\n",
      "64080/64080 [==============================] - 50s 773us/step - loss: 0.3384 - weighted_log_loss: 0.3384 - acc: 0.7302 - val_loss: 0.3554 - val_weighted_log_loss: 0.3554 - val_acc: 0.7096\n",
      "Epoch 6/50\n",
      "64080/64080 [==============================] - 50s 777us/step - loss: 0.3281 - weighted_log_loss: 0.3281 - acc: 0.7451 - val_loss: 0.3521 - val_weighted_log_loss: 0.3521 - val_acc: 0.7469\n",
      "Epoch 7/50\n",
      "64080/64080 [==============================] - 50s 773us/step - loss: 0.3191 - weighted_log_loss: 0.3191 - acc: 0.7542 - val_loss: 0.3427 - val_weighted_log_loss: 0.3427 - val_acc: 0.7615\n",
      "Epoch 8/50\n",
      "64080/64080 [==============================] - 50s 775us/step - loss: 0.3108 - weighted_log_loss: 0.3108 - acc: 0.7651 - val_loss: 0.3373 - val_weighted_log_loss: 0.3373 - val_acc: 0.7439\n",
      "Epoch 9/50\n",
      "64080/64080 [==============================] - 49s 769us/step - loss: 0.3031 - weighted_log_loss: 0.3031 - acc: 0.7741 - val_loss: 0.3335 - val_weighted_log_loss: 0.3335 - val_acc: 0.7547\n",
      "Epoch 10/50\n",
      "64080/64080 [==============================] - 50s 773us/step - loss: 0.2961 - weighted_log_loss: 0.2961 - acc: 0.7836 - val_loss: 0.3288 - val_weighted_log_loss: 0.3288 - val_acc: 0.7657\n",
      "Epoch 11/50\n",
      "64080/64080 [==============================] - 50s 773us/step - loss: 0.2886 - weighted_log_loss: 0.2886 - acc: 0.7905 - val_loss: 0.3242 - val_weighted_log_loss: 0.3242 - val_acc: 0.7529\n",
      "Epoch 12/50\n",
      "64080/64080 [==============================] - 50s 775us/step - loss: 0.2824 - weighted_log_loss: 0.2824 - acc: 0.7993 - val_loss: 0.3199 - val_weighted_log_loss: 0.3199 - val_acc: 0.7795\n",
      "Epoch 13/50\n",
      "64080/64080 [==============================] - 49s 768us/step - loss: 0.2770 - weighted_log_loss: 0.2770 - acc: 0.8044 - val_loss: 0.3176 - val_weighted_log_loss: 0.3176 - val_acc: 0.7695\n",
      "Epoch 14/50\n",
      "64080/64080 [==============================] - 50s 786us/step - loss: 0.2708 - weighted_log_loss: 0.2708 - acc: 0.8098 - val_loss: 0.3148 - val_weighted_log_loss: 0.3148 - val_acc: 0.7813\n",
      "Epoch 15/50\n",
      "64080/64080 [==============================] - 49s 767us/step - loss: 0.2658 - weighted_log_loss: 0.2658 - acc: 0.8157 - val_loss: 0.3105 - val_weighted_log_loss: 0.3105 - val_acc: 0.7851\n",
      "Epoch 16/50\n",
      "64080/64080 [==============================] - 49s 771us/step - loss: 0.2611 - weighted_log_loss: 0.2611 - acc: 0.8205 - val_loss: 0.3083 - val_weighted_log_loss: 0.3083 - val_acc: 0.7735\n",
      "Epoch 17/50\n",
      "64080/64080 [==============================] - 49s 772us/step - loss: 0.2568 - weighted_log_loss: 0.2568 - acc: 0.8250 - val_loss: 0.3059 - val_weighted_log_loss: 0.3059 - val_acc: 0.7994\n",
      "Epoch 18/50\n",
      "64080/64080 [==============================] - 49s 767us/step - loss: 0.2515 - weighted_log_loss: 0.2515 - acc: 0.8291 - val_loss: 0.3053 - val_weighted_log_loss: 0.3053 - val_acc: 0.8042\n",
      "Epoch 19/50\n",
      "64080/64080 [==============================] - 49s 767us/step - loss: 0.2477 - weighted_log_loss: 0.2477 - acc: 0.8342 - val_loss: 0.3007 - val_weighted_log_loss: 0.3007 - val_acc: 0.7865\n",
      "Epoch 20/50\n",
      "64080/64080 [==============================] - 49s 767us/step - loss: 0.2432 - weighted_log_loss: 0.2432 - acc: 0.8387 - val_loss: 0.2999 - val_weighted_log_loss: 0.2999 - val_acc: 0.8116\n",
      "Epoch 21/50\n",
      "64080/64080 [==============================] - 49s 762us/step - loss: 0.2387 - weighted_log_loss: 0.2387 - acc: 0.8436 - val_loss: 0.2992 - val_weighted_log_loss: 0.2992 - val_acc: 0.7935\n",
      "Epoch 22/50\n",
      "64080/64080 [==============================] - 49s 760us/step - loss: 0.2351 - weighted_log_loss: 0.2351 - acc: 0.8466 - val_loss: 0.2956 - val_weighted_log_loss: 0.2956 - val_acc: 0.8102\n",
      "Epoch 23/50\n",
      "64080/64080 [==============================] - 49s 760us/step - loss: 0.2310 - weighted_log_loss: 0.2310 - acc: 0.8491 - val_loss: 0.2931 - val_weighted_log_loss: 0.2931 - val_acc: 0.8194\n",
      "Epoch 24/50\n",
      "64080/64080 [==============================] - 49s 760us/step - loss: 0.2270 - weighted_log_loss: 0.2270 - acc: 0.8543 - val_loss: 0.2941 - val_weighted_log_loss: 0.2941 - val_acc: 0.8187\n",
      "Epoch 25/50\n",
      "64080/64080 [==============================] - 49s 759us/step - loss: 0.2244 - weighted_log_loss: 0.2244 - acc: 0.8570 - val_loss: 0.2882 - val_weighted_log_loss: 0.2882 - val_acc: 0.8155\n",
      "Epoch 26/50\n",
      "64080/64080 [==============================] - 49s 758us/step - loss: 0.2203 - weighted_log_loss: 0.2203 - acc: 0.8604 - val_loss: 0.2880 - val_weighted_log_loss: 0.2880 - val_acc: 0.8170\n",
      "Epoch 27/50\n",
      "64080/64080 [==============================] - 49s 762us/step - loss: 0.2175 - weighted_log_loss: 0.2175 - acc: 0.8627 - val_loss: 0.2880 - val_weighted_log_loss: 0.2880 - val_acc: 0.8267\n",
      "Epoch 28/50\n",
      "64080/64080 [==============================] - 49s 758us/step - loss: 0.2140 - weighted_log_loss: 0.2140 - acc: 0.8667 - val_loss: 0.2861 - val_weighted_log_loss: 0.2861 - val_acc: 0.8230\n",
      "Epoch 29/50\n",
      "64080/64080 [==============================] - 49s 761us/step - loss: 0.2114 - weighted_log_loss: 0.2114 - acc: 0.8684 - val_loss: 0.2867 - val_weighted_log_loss: 0.2867 - val_acc: 0.8239\n",
      "Epoch 30/50\n",
      "64080/64080 [==============================] - 49s 762us/step - loss: 0.2084 - weighted_log_loss: 0.2084 - acc: 0.8714 - val_loss: 0.2832 - val_weighted_log_loss: 0.2832 - val_acc: 0.8321\n",
      "Epoch 31/50\n",
      "64080/64080 [==============================] - 49s 759us/step - loss: 0.2057 - weighted_log_loss: 0.2057 - acc: 0.8728 - val_loss: 0.2823 - val_weighted_log_loss: 0.2823 - val_acc: 0.8226\n",
      "Epoch 32/50\n",
      "64080/64080 [==============================] - 49s 759us/step - loss: 0.2033 - weighted_log_loss: 0.2033 - acc: 0.8760 - val_loss: 0.2839 - val_weighted_log_loss: 0.2839 - val_acc: 0.8257\n"
     ]
    },
    {
     "name": "stdout",
     "output_type": "stream",
     "text": [
      "Epoch 33/50\n",
      "64080/64080 [==============================] - 49s 761us/step - loss: 0.2010 - weighted_log_loss: 0.2010 - acc: 0.8770 - val_loss: 0.2816 - val_weighted_log_loss: 0.2816 - val_acc: 0.8237\n",
      "Epoch 34/50\n",
      "64080/64080 [==============================] - 49s 758us/step - loss: 0.1982 - weighted_log_loss: 0.1982 - acc: 0.8803 - val_loss: 0.2825 - val_weighted_log_loss: 0.2825 - val_acc: 0.8340\n",
      "Epoch 35/50\n",
      "64080/64080 [==============================] - 49s 759us/step - loss: 0.1958 - weighted_log_loss: 0.1958 - acc: 0.8821 - val_loss: 0.2849 - val_weighted_log_loss: 0.2849 - val_acc: 0.8142\n",
      "Epoch 36/50\n",
      "64080/64080 [==============================] - 49s 757us/step - loss: 0.1930 - weighted_log_loss: 0.1930 - acc: 0.8846 - val_loss: 0.2813 - val_weighted_log_loss: 0.2813 - val_acc: 0.8348\n",
      "Epoch 37/50\n",
      "64080/64080 [==============================] - 49s 761us/step - loss: 0.1913 - weighted_log_loss: 0.1913 - acc: 0.8858 - val_loss: 0.2826 - val_weighted_log_loss: 0.2826 - val_acc: 0.8390\n",
      "Epoch 38/50\n",
      "64080/64080 [==============================] - 49s 759us/step - loss: 0.1885 - weighted_log_loss: 0.1885 - acc: 0.8887 - val_loss: 0.2846 - val_weighted_log_loss: 0.2846 - val_acc: 0.8185\n",
      "Epoch 39/50\n",
      "64080/64080 [==============================] - 49s 762us/step - loss: 0.1868 - weighted_log_loss: 0.1868 - acc: 0.8897 - val_loss: 0.2814 - val_weighted_log_loss: 0.2814 - val_acc: 0.8250\n",
      "Epoch 40/50\n",
      "64080/64080 [==============================] - 49s 761us/step - loss: 0.1845 - weighted_log_loss: 0.1845 - acc: 0.8917 - val_loss: 0.2792 - val_weighted_log_loss: 0.2792 - val_acc: 0.8355\n",
      "Epoch 41/50\n",
      "64080/64080 [==============================] - 49s 759us/step - loss: 0.1827 - weighted_log_loss: 0.1827 - acc: 0.8932 - val_loss: 0.2833 - val_weighted_log_loss: 0.2833 - val_acc: 0.8309\n",
      "Epoch 42/50\n",
      "64080/64080 [==============================] - 49s 762us/step - loss: 0.1806 - weighted_log_loss: 0.1806 - acc: 0.8958 - val_loss: 0.2770 - val_weighted_log_loss: 0.2770 - val_acc: 0.8396\n",
      "Epoch 43/50\n",
      "64080/64080 [==============================] - 49s 764us/step - loss: 0.1792 - weighted_log_loss: 0.1792 - acc: 0.8963 - val_loss: 0.2776 - val_weighted_log_loss: 0.2776 - val_acc: 0.8407\n",
      "Epoch 44/50\n",
      "64080/64080 [==============================] - 49s 762us/step - loss: 0.1768 - weighted_log_loss: 0.1768 - acc: 0.8975 - val_loss: 0.2774 - val_weighted_log_loss: 0.2774 - val_acc: 0.8427\n",
      "Epoch 45/50\n",
      "64080/64080 [==============================] - 49s 760us/step - loss: 0.1754 - weighted_log_loss: 0.1754 - acc: 0.8995 - val_loss: 0.2801 - val_weighted_log_loss: 0.2801 - val_acc: 0.8391\n",
      "Epoch 46/50\n",
      "64080/64080 [==============================] - 49s 764us/step - loss: 0.1733 - weighted_log_loss: 0.1733 - acc: 0.9005 - val_loss: 0.2794 - val_weighted_log_loss: 0.2794 - val_acc: 0.8427\n",
      "Epoch 47/50\n",
      "64080/64080 [==============================] - 49s 760us/step - loss: 0.1715 - weighted_log_loss: 0.1715 - acc: 0.9016 - val_loss: 0.2757 - val_weighted_log_loss: 0.2757 - val_acc: 0.8475\n",
      "Epoch 48/50\n",
      "64080/64080 [==============================] - 49s 758us/step - loss: 0.1708 - weighted_log_loss: 0.1708 - acc: 0.9019 - val_loss: 0.2779 - val_weighted_log_loss: 0.2779 - val_acc: 0.8433\n",
      "Epoch 49/50\n",
      "64080/64080 [==============================] - 49s 760us/step - loss: 0.1686 - weighted_log_loss: 0.1686 - acc: 0.9040 - val_loss: 0.2800 - val_weighted_log_loss: 0.2800 - val_acc: 0.8406\n",
      "Epoch 50/50\n",
      "64080/64080 [==============================] - 48s 757us/step - loss: 0.1682 - weighted_log_loss: 0.1682 - acc: 0.9047 - val_loss: 0.2788 - val_weighted_log_loss: 0.2788 - val_acc: 0.8433\n"
     ]
    }
   ],
   "source": [
    "from keras.models import Sequential, Model\n",
    "from keras.layers import Input, Embedding, LSTM, concatenate, Dense, Dropout, Lambda\n",
    "from keras.optimizers import Adam\n",
    "from keras.preprocessing.sequence import pad_sequences\n",
    "from keras.wrappers.scikit_learn import KerasClassifier\n",
    "import keras.backend as K\n",
    "\n",
    "# Model hyperparameters\n",
    "hidden_layer_nodes = 50\n",
    "batch_size = 128\n",
    "epochs = 50\n",
    "\n",
    "# declare left and right inputs\n",
    "left_input = Input(shape=(max_seq_length,), dtype='int32')\n",
    "right_input = Input(shape=(max_seq_length,), dtype='int32')\n",
    "\n",
    "# Create an embedding layer to convert words to their embeddings\n",
    "embedding_layer = Embedding(len(embeddings), embedding_dim, weights=[embeddings], input_length=max_seq_length, trainable=False)\n",
    "\n",
    "# Convert inputs into word embeddings\n",
    "encoded_left = embedding_layer(left_input)\n",
    "encoded_right = embedding_layer(right_input)\n",
    "\n",
    "# lstm layer that will return an output the size of the number of hidden layer nodes\n",
    "shared_lstm = LSTM(hidden_layer_nodes)\n",
    "\n",
    "# run both inputs through shared lstm\n",
    "output_left = shared_lstm(encoded_left)\n",
    "output_right = shared_lstm(encoded_right)\n",
    "\n",
    "\n",
    "def custom_merge(x):\n",
    "    return exponent_neg_manhattan_distance(x[0],x[1])\n",
    "\n",
    "merged_vector = Lambda(custom_merge,output_shape=lambda x: (x[0][0], 1))([output_left, output_right])    \n",
    "\n",
    "# finish off model with output layer\n",
    "maLSTM = Model([left_input, right_input], [merged_vector])\n",
    "\n",
    "# optimizer\n",
    "optimizer = Adam(clipnorm=.9)\n",
    "\n",
    "# complete model\n",
    "maLSTM.compile(optimizer=optimizer, loss=weighted_log_loss, metrics=[weighted_log_loss,'accuracy'])\n",
    "\n",
    "# summarize the model\n",
    "print(maLSTM.summary())\n",
    "\n",
    "# Start training\n",
    "model_trained = maLSTM.fit([LSTM_train_X['left'], LSTM_train_X['right']], LSTM_train_y, batch_size=batch_size, epochs=epochs,\n",
    "                            validation_data=([LSTM_valid_X['left'], LSTM_valid_X['right']], LSTM_valid_y), verbose=1)"
   ]
  },
  {
   "cell_type": "code",
   "execution_count": 15,
   "metadata": {},
   "outputs": [
    {
     "data": {
      "image/png": "[encoded data removed]",
      "text/plain": [
       "<Figure size 864x576 with 1 Axes>"
      ]
     },
     "metadata": {
      "needs_background": "light"
     },
     "output_type": "display_data"
    },
    {
     "data": {
      "image/png": "[encoded data removed]",
      "text/plain": [
       "<Figure size 864x576 with 1 Axes>"
      ]
     },
     "metadata": {
      "needs_background": "light"
     },
     "output_type": "display_data"
    }
   ],
   "source": [
    "import matplotlib.pyplot as plt\n",
    "%matplotlib inline\n",
    "# summarize history for accuracy\n",
    "plt.figure(figsize=(12,8))\n",
    "plt.plot(model_trained.history['acc'])\n",
    "plt.plot(model_trained.history['val_acc'])\n",
    "plt.title('model accuracy')\n",
    "plt.ylabel('accuracy')\n",
    "plt.xlabel('epoch')\n",
    "plt.legend(['train', 'valid'], loc='upper left')\n",
    "plt.show()\n",
    "\n",
    "# summarize history for loss\n",
    "plt.figure(figsize=(12,8))\n",
    "plt.plot(model_trained.history['loss'])\n",
    "plt.plot(model_trained.history['val_loss'])\n",
    "plt.title('model loss')\n",
    "plt.ylabel('loss')\n",
    "plt.xlabel('epoch')\n",
    "plt.legend(['train', 'valid'], loc='upper left')\n",
    "plt.show()"
   ]
  },
  {
   "cell_type": "code",
   "execution_count": 16,
   "metadata": {},
   "outputs": [],
   "source": [
    "LSTM_test_X['left'] = pad_sequences(LSTM_test_X['left'], maxlen=max_seq_length)\n",
    "LSTM_test_X['right'] = pad_sequences(LSTM_test_X['right'], maxlen=max_seq_length)\n",
    "prob_y = maLSTM.predict([LSTM_test_X['left'], LSTM_test_X['right']])\n",
    "\n",
    "## dump into .csv for Kaggle submission\n",
    "submission = pd.DataFrame()\n",
    "submission['Id'] = test_X['PairNb']\n",
    "submission['Score'] = prob_y\n",
    "submission.to_csv(\"submission_siameseLSTM_2.csv\", index=False)"
   ]
  },
  {
   "cell_type": "code",
   "execution_count": null,
   "metadata": {},
   "outputs": [],
   "source": []
  }
 ],
 "metadata": {
  "kernelspec": {
   "display_name": "Python 3",
   "language": "python",
   "name": "python3"
  },
  "language_info": {
   "codemirror_mode": {
    "name": "ipython",
    "version": 3
   },
   "file_extension": ".py",
   "mimetype": "text/x-python",
   "name": "python",
   "nbconvert_exporter": "python",
   "pygments_lexer": "ipython3",
   "version": "3.7.1"
  }
 },
 "nbformat": 4,
 "nbformat_minor": 2
}

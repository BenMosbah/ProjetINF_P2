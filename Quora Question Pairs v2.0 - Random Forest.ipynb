{
 "cells": [
  {
   "cell_type": "markdown",
   "metadata": {},
   "source": [
    "### <font color='green'>Quora Question Pairs - Random Forest Model</font>"
   ]
  },
  {
   "cell_type": "markdown",
   "metadata": {},
   "source": [
    "#### Import required libraries"
   ]
  },
  {
   "cell_type": "code",
   "execution_count": 1,
   "metadata": {},
   "outputs": [
    {
     "ename": "ModuleNotFoundError",
     "evalue": "No module named 'matplotlib'",
     "output_type": "error",
     "traceback": [
      "\u001b[1;31m---------------------------------------------------------------------------\u001b[0m",
      "\u001b[1;31mModuleNotFoundError\u001b[0m                       Traceback (most recent call last)",
      "\u001b[1;32m<ipython-input-1-4003a2450e69>\u001b[0m in \u001b[0;36m<module>\u001b[1;34m()\u001b[0m\n\u001b[0;32m      3\u001b[0m \u001b[1;32mimport\u001b[0m \u001b[0msklearn\u001b[0m \u001b[1;32mas\u001b[0m \u001b[0mskl\u001b[0m\u001b[1;33m\u001b[0m\u001b[0m\n\u001b[0;32m      4\u001b[0m \u001b[1;32mimport\u001b[0m \u001b[0mnumpy\u001b[0m \u001b[1;32mas\u001b[0m \u001b[0mnp\u001b[0m\u001b[1;33m\u001b[0m\u001b[0m\n\u001b[1;32m----> 5\u001b[1;33m \u001b[1;32mimport\u001b[0m \u001b[0mmatplotlib\u001b[0m\u001b[1;33m.\u001b[0m\u001b[0mpyplot\u001b[0m \u001b[1;32mas\u001b[0m \u001b[0mplt\u001b[0m\u001b[1;33m\u001b[0m\u001b[0m\n\u001b[0m\u001b[0;32m      6\u001b[0m \u001b[1;32mimport\u001b[0m \u001b[0mnltk\u001b[0m \u001b[1;32mas\u001b[0m \u001b[0mnk\u001b[0m\u001b[1;33m\u001b[0m\u001b[0m\n\u001b[0;32m      7\u001b[0m \u001b[1;33m\u001b[0m\u001b[0m\n",
      "\u001b[1;31mModuleNotFoundError\u001b[0m: No module named 'matplotlib'"
     ]
    }
   ],
   "source": [
    "import pandas as pd\n",
    "import itertools as itertools\n",
    "import sklearn as skl\n",
    "import numpy as np\n",
    "import matplotlib.pyplot as plt\n",
    "import nltk as nk\n",
    "\n",
    "from sklearn.model_selection import train_test_split, cross_val_score\n",
    "from sklearn.ensemble import RandomForestClassifier\n",
    "from sklearn.metrics import accuracy_score, mean_squared_error, make_scorer, confusion_matrix\n",
    "\n",
    "from keras.models import Sequential, Model\n",
    "from keras.layers import Input, Embedding, LSTM, Merge, Dense, Dropout, concatenate\n",
    "from keras.optimizers import Adadelta\n",
    "from keras.preprocessing.sequence import pad_sequences\n",
    "import keras.backend as K\n",
    "\n",
    "from nltk.corpus import stopwords\n",
    "\n",
    "import re\n",
    "import Levenshtein as leven\n",
    "from gensim.models import KeyedVectors\n",
    "from math import sqrt"
   ]
  },
  {
   "cell_type": "markdown",
   "metadata": {},
   "source": [
    "#### Import datasets and clean data, for practice.\n",
    "The training dataset provided will be split into train-test to validate model's accuracy"
   ]
  },
  {
   "cell_type": "code",
   "execution_count": 2,
   "metadata": {
    "collapsed": true
   },
   "outputs": [],
   "source": [
    "train = pd.read_csv(r'C:\\Users\\lim_j\\Google Drive\\Technical Skills\\Kaggle\\Quora Question Pairs\\train.csv')\n",
    "test = pd.read_csv(r'C:\\Users\\lim_j\\Google Drive\\Technical Skills\\Kaggle\\Quora Question Pairs\\test.csv')\n",
    "embedding_file = r'C:\\Users\\lim_j\\Google Drive\\Technical Skills\\Kaggle\\Quora Question Pairs\\GoogleNews-vectors-negative300.bin.gz'\n",
    "model_dir = r'C:\\Users\\lim_j\\Google Drive\\Technical Skills\\Kaggle\\Quora Question Pairs\\Model'"
   ]
  },
  {
   "cell_type": "markdown",
   "metadata": {},
   "source": [
    "## Exploratory Data Analysis (EDA)"
   ]
  },
  {
   "cell_type": "code",
   "execution_count": 3,
   "metadata": {},
   "outputs": [
    {
     "data": {
      "text/html": [
       "<div>\n",
       "<style>\n",
       "    .dataframe thead tr:only-child th {\n",
       "        text-align: right;\n",
       "    }\n",
       "\n",
       "    .dataframe thead th {\n",
       "        text-align: left;\n",
       "    }\n",
       "\n",
       "    .dataframe tbody tr th {\n",
       "        vertical-align: top;\n",
       "    }\n",
       "</style>\n",
       "<table border=\"1\" class=\"dataframe\">\n",
       "  <thead>\n",
       "    <tr style=\"text-align: right;\">\n",
       "      <th></th>\n",
       "      <th>id</th>\n",
       "      <th>qid1</th>\n",
       "      <th>qid2</th>\n",
       "      <th>is_duplicate</th>\n",
       "    </tr>\n",
       "  </thead>\n",
       "  <tbody>\n",
       "    <tr>\n",
       "      <th>count</th>\n",
       "      <td>404290.000000</td>\n",
       "      <td>404290.000000</td>\n",
       "      <td>404290.000000</td>\n",
       "      <td>404290.000000</td>\n",
       "    </tr>\n",
       "    <tr>\n",
       "      <th>mean</th>\n",
       "      <td>202144.500000</td>\n",
       "      <td>217243.942418</td>\n",
       "      <td>220955.655337</td>\n",
       "      <td>0.369198</td>\n",
       "    </tr>\n",
       "    <tr>\n",
       "      <th>std</th>\n",
       "      <td>116708.614502</td>\n",
       "      <td>157751.700002</td>\n",
       "      <td>159903.182629</td>\n",
       "      <td>0.482588</td>\n",
       "    </tr>\n",
       "    <tr>\n",
       "      <th>min</th>\n",
       "      <td>0.000000</td>\n",
       "      <td>1.000000</td>\n",
       "      <td>2.000000</td>\n",
       "      <td>0.000000</td>\n",
       "    </tr>\n",
       "    <tr>\n",
       "      <th>25%</th>\n",
       "      <td>101072.250000</td>\n",
       "      <td>74437.500000</td>\n",
       "      <td>74727.000000</td>\n",
       "      <td>0.000000</td>\n",
       "    </tr>\n",
       "    <tr>\n",
       "      <th>50%</th>\n",
       "      <td>202144.500000</td>\n",
       "      <td>192182.000000</td>\n",
       "      <td>197052.000000</td>\n",
       "      <td>0.000000</td>\n",
       "    </tr>\n",
       "    <tr>\n",
       "      <th>75%</th>\n",
       "      <td>303216.750000</td>\n",
       "      <td>346573.500000</td>\n",
       "      <td>354692.500000</td>\n",
       "      <td>1.000000</td>\n",
       "    </tr>\n",
       "    <tr>\n",
       "      <th>max</th>\n",
       "      <td>404289.000000</td>\n",
       "      <td>537932.000000</td>\n",
       "      <td>537933.000000</td>\n",
       "      <td>1.000000</td>\n",
       "    </tr>\n",
       "  </tbody>\n",
       "</table>\n",
       "</div>"
      ],
      "text/plain": [
       "                  id           qid1           qid2   is_duplicate\n",
       "count  404290.000000  404290.000000  404290.000000  404290.000000\n",
       "mean   202144.500000  217243.942418  220955.655337       0.369198\n",
       "std    116708.614502  157751.700002  159903.182629       0.482588\n",
       "min         0.000000       1.000000       2.000000       0.000000\n",
       "25%    101072.250000   74437.500000   74727.000000       0.000000\n",
       "50%    202144.500000  192182.000000  197052.000000       0.000000\n",
       "75%    303216.750000  346573.500000  354692.500000       1.000000\n",
       "max    404289.000000  537932.000000  537933.000000       1.000000"
      ]
     },
     "execution_count": 3,
     "metadata": {},
     "output_type": "execute_result"
    }
   ],
   "source": [
    "train.describe()"
   ]
  },
  {
   "cell_type": "code",
   "execution_count": 4,
   "metadata": {},
   "outputs": [
    {
     "name": "stdout",
     "output_type": "stream",
     "text": [
      "<class 'pandas.core.frame.DataFrame'>\n",
      "RangeIndex: 404290 entries, 0 to 404289\n",
      "Data columns (total 6 columns):\n",
      "id              404290 non-null int64\n",
      "qid1            404290 non-null int64\n",
      "qid2            404290 non-null int64\n",
      "question1       404290 non-null object\n",
      "question2       404288 non-null object\n",
      "is_duplicate    404290 non-null int64\n",
      "dtypes: int64(4), object(2)\n",
      "memory usage: 18.5+ MB\n"
     ]
    }
   ],
   "source": [
    "train.info()"
   ]
  },
  {
   "cell_type": "markdown",
   "metadata": {},
   "source": [
    "There are 2 null values under column question2, hence we will have to remove these 2 pairs of questions with null values."
   ]
  },
  {
   "cell_type": "code",
   "execution_count": 5,
   "metadata": {},
   "outputs": [
    {
     "data": {
      "text/plain": [
       "str"
      ]
     },
     "execution_count": 5,
     "metadata": {},
     "output_type": "execute_result"
    }
   ],
   "source": [
    "type(train.question2[0])"
   ]
  },
  {
   "cell_type": "code",
   "execution_count": 6,
   "metadata": {},
   "outputs": [
    {
     "data": {
      "text/html": [
       "<div>\n",
       "<style>\n",
       "    .dataframe thead tr:only-child th {\n",
       "        text-align: right;\n",
       "    }\n",
       "\n",
       "    .dataframe thead th {\n",
       "        text-align: left;\n",
       "    }\n",
       "\n",
       "    .dataframe tbody tr th {\n",
       "        vertical-align: top;\n",
       "    }\n",
       "</style>\n",
       "<table border=\"1\" class=\"dataframe\">\n",
       "  <thead>\n",
       "    <tr style=\"text-align: right;\">\n",
       "      <th></th>\n",
       "      <th>id</th>\n",
       "      <th>qid1</th>\n",
       "      <th>qid2</th>\n",
       "      <th>question1</th>\n",
       "      <th>question2</th>\n",
       "      <th>is_duplicate</th>\n",
       "    </tr>\n",
       "  </thead>\n",
       "  <tbody>\n",
       "    <tr>\n",
       "      <th>105780</th>\n",
       "      <td>105780</td>\n",
       "      <td>174363</td>\n",
       "      <td>174364</td>\n",
       "      <td>How can I develop android app?</td>\n",
       "      <td>NaN</td>\n",
       "      <td>0</td>\n",
       "    </tr>\n",
       "    <tr>\n",
       "      <th>201841</th>\n",
       "      <td>201841</td>\n",
       "      <td>303951</td>\n",
       "      <td>174364</td>\n",
       "      <td>How can I create an Android app?</td>\n",
       "      <td>NaN</td>\n",
       "      <td>0</td>\n",
       "    </tr>\n",
       "  </tbody>\n",
       "</table>\n",
       "</div>"
      ],
      "text/plain": [
       "            id    qid1    qid2                         question1 question2  \\\n",
       "105780  105780  174363  174364    How can I develop android app?       NaN   \n",
       "201841  201841  303951  174364  How can I create an Android app?       NaN   \n",
       "\n",
       "        is_duplicate  \n",
       "105780             0  \n",
       "201841             0  "
      ]
     },
     "execution_count": 6,
     "metadata": {},
     "output_type": "execute_result"
    }
   ],
   "source": [
    "train[train.isnull().any(axis=1)]"
   ]
  },
  {
   "cell_type": "code",
   "execution_count": 7,
   "metadata": {
    "collapsed": true
   },
   "outputs": [],
   "source": [
    "train = train.dropna(axis=0, how='any')"
   ]
  },
  {
   "cell_type": "code",
   "execution_count": 8,
   "metadata": {},
   "outputs": [
    {
     "name": "stdout",
     "output_type": "stream",
     "text": [
      "<class 'pandas.core.frame.DataFrame'>\n",
      "Int64Index: 404288 entries, 0 to 404289\n",
      "Data columns (total 6 columns):\n",
      "id              404288 non-null int64\n",
      "qid1            404288 non-null int64\n",
      "qid2            404288 non-null int64\n",
      "question1       404288 non-null object\n",
      "question2       404288 non-null object\n",
      "is_duplicate    404288 non-null int64\n",
      "dtypes: int64(4), object(2)\n",
      "memory usage: 21.6+ MB\n"
     ]
    }
   ],
   "source": [
    "# Verify that rows with null values have been removed\n",
    "train.info()"
   ]
  },
  {
   "cell_type": "markdown",
   "metadata": {},
   "source": [
    "### Feature Engineering\n",
    "Creation of classical features"
   ]
  },
  {
   "cell_type": "markdown",
   "metadata": {},
   "source": [
    "#### Feature engineering functions"
   ]
  },
  {
   "cell_type": "code",
   "execution_count": 9,
   "metadata": {
    "collapsed": true
   },
   "outputs": [],
   "source": [
    "# Count number of words in a question\n",
    "def words(question):\n",
    "    return len(question.split())\n",
    "\n",
    "# Average length of a word in a question\n",
    "def avg_word_length(question):\n",
    "    total_words_len = 0\n",
    "    no_of_words = 0\n",
    "    question = question.split()\n",
    "    for word in question:\n",
    "        total_words_len += len(word)\n",
    "        no_of_words += 1\n",
    "    return total_words_len/no_of_words\n",
    "\n",
    "# Number of characters in a question\n",
    "def char_count(question):\n",
    "    return len(question)\n",
    "\n",
    "# Caps count of question, only takes into account whether the first character of each word is in uppercase\n",
    "def caps_count(question):\n",
    "    question = question.split()\n",
    "    count = 0\n",
    "    for word in question:\n",
    "        if word[0].isupper():\n",
    "            count += 1\n",
    "    \n",
    "    return count\n",
    "\n",
    "# Jaccard Similiarity Coefficient\n",
    "# Obtain the Jaccard Similiarity Coeefficient between 2 questions\n",
    "# (X intersect Y) / (X union Y)\n",
    "def jaccard_coeff(dataframe):\n",
    "    question1 = dataframe['question1']\n",
    "    question2 = dataframe['question2']\n",
    "    question1 = question1.split(' ')\n",
    "    question2 = question2.split(' ')\n",
    "    shared_words = 0\n",
    "    total_words = len(question1) + len(question2)\n",
    "    \n",
    "    for word1 in question1:\n",
    "        for word2 in question2:\n",
    "            if word1 == word2:\n",
    "                shared_words += 1\n",
    "    \n",
    "    if (total_words-shared_words) == 0:\n",
    "        return 1\n",
    "    else:\n",
    "        return shared_words/(total_words-shared_words)\n",
    "    \n",
    "# Levenshtein distance\n",
    "# Obtain the Levenshtein distance between 2 questions\n",
    "def levenshtein(dataframe):\n",
    "    return leven.distance(dataframe['question1'], dataframe['question2'])"
   ]
  },
  {
   "cell_type": "code",
   "execution_count": 10,
   "metadata": {
    "scrolled": true
   },
   "outputs": [
    {
     "name": "stdout",
     "output_type": "stream",
     "text": [
      "# of examples in the training data: 303372\n",
      "# of examples in the test data: 100916\n"
     ]
    }
   ],
   "source": [
    "# Slicing imported dataframe into question1 series, question2 series and questions dataframe\n",
    "q1 = train.iloc[:,3]\n",
    "q2 = train.iloc[:,4]\n",
    "q = train.iloc[:,3:5]\n",
    "dup = train.iloc[:,5]\n",
    "\n",
    "# Creating new features using feature engineering functions\n",
    "word_len_diff = abs(q1.apply(words) - q2.apply(words))\n",
    "avg_word_len_diff = abs(q1.apply(avg_word_length) - q2.apply(avg_word_length))\n",
    "char_diff = abs(q1.apply(char_count) - q2.apply(char_count))\n",
    "caps_diff = abs(q1.apply(caps_count) - q2.apply(caps_count))\n",
    "jaccard = q.apply(jaccard_coeff, axis=1)\n",
    "leven_dist = q.apply(levenshtein, axis=1)\n",
    "\n",
    "# Creating a new dataframe with values of new features\n",
    "classic_feat = pd.DataFrame({'word_len_diff': word_len_diff, 'avg_word_len_diff': avg_word_len_diff, \n",
    "                             'char_diff': char_diff, 'caps_diff': caps_diff, 'jaccard': jaccard, \n",
    "                             'leven_dist': leven_dist, 'duplicate': dup})\n",
    "classic_feat = classic_feat[['word_len_diff', 'avg_word_len_diff', 'char_diff', 'caps_diff', 'jaccard', 'leven_dist', 'duplicate']]\n",
    "\n",
    "# Create train = true/false boolean column for train-test split\n",
    "classic_feat['is_train'] = np.random.uniform(0, 1, len(classic_feat)) <= .75\n",
    "\n",
    "# Train-test dataframes split\n",
    "train, test = classic_feat[classic_feat['is_train']==True], classic_feat[classic_feat['is_train']==False]\n",
    "\n",
    "# Number of examplples for training and test dataframes\n",
    "print('# of examples in the training data:', len(train))\n",
    "print('# of examples in the test data:',len(test))"
   ]
  },
  {
   "cell_type": "code",
   "execution_count": 11,
   "metadata": {},
   "outputs": [
    {
     "data": {
      "text/plain": [
       "Index(['word_len_diff', 'avg_word_len_diff', 'char_diff', 'caps_diff',\n",
       "       'jaccard', 'leven_dist'],\n",
       "      dtype='object')"
      ]
     },
     "execution_count": 11,
     "metadata": {},
     "output_type": "execute_result"
    }
   ],
   "source": []
  },
  {
   "cell_type": "code",
   "execution_count": 12,
   "metadata": {
    "scrolled": true
   },
   "outputs": [
    {
     "data": {
      "text/plain": [
       "0         0\n",
       "1         0\n",
       "2         0\n",
       "4         0\n",
       "5         1\n",
       "6         0\n",
       "8         0\n",
       "9         0\n",
       "11        1\n",
       "12        1\n",
       "13        1\n",
       "14        0\n",
       "15        1\n",
       "16        1\n",
       "18        1\n",
       "19        0\n",
       "21        0\n",
       "23        0\n",
       "24        0\n",
       "25        0\n",
       "26        0\n",
       "27        0\n",
       "28        0\n",
       "29        1\n",
       "30        0\n",
       "32        1\n",
       "33        0\n",
       "34        0\n",
       "35        0\n",
       "36        0\n",
       "         ..\n",
       "404249    1\n",
       "404250    0\n",
       "404251    0\n",
       "404253    0\n",
       "404254    0\n",
       "404257    1\n",
       "404258    1\n",
       "404260    0\n",
       "404261    1\n",
       "404262    0\n",
       "404263    0\n",
       "404264    0\n",
       "404265    1\n",
       "404266    0\n",
       "404267    1\n",
       "404269    0\n",
       "404270    0\n",
       "404273    1\n",
       "404274    1\n",
       "404275    0\n",
       "404277    0\n",
       "404279    0\n",
       "404280    1\n",
       "404281    1\n",
       "404282    1\n",
       "404283    0\n",
       "404284    1\n",
       "404285    0\n",
       "404286    1\n",
       "404287    0\n",
       "Name: duplicate, Length: 303372, dtype: int64"
      ]
     },
     "execution_count": 12,
     "metadata": {},
     "output_type": "execute_result"
    }
   ],
   "source": [
    "# Obtaining y from the training data\n",
    "y = train['duplicate']\n"
   ]
  },
  {
   "cell_type": "code",
   "execution_count": 13,
   "metadata": {
    "scrolled": false
   },
   "outputs": [
    {
     "data": {
      "text/html": [
       "<div>\n",
       "<style>\n",
       "    .dataframe thead tr:only-child th {\n",
       "        text-align: right;\n",
       "    }\n",
       "\n",
       "    .dataframe thead th {\n",
       "        text-align: left;\n",
       "    }\n",
       "\n",
       "    .dataframe tbody tr th {\n",
       "        vertical-align: top;\n",
       "    }\n",
       "</style>\n",
       "<table border=\"1\" class=\"dataframe\">\n",
       "  <thead>\n",
       "    <tr style=\"text-align: right;\">\n",
       "      <th></th>\n",
       "      <th>word_len_diff</th>\n",
       "      <th>avg_word_len_diff</th>\n",
       "      <th>char_diff</th>\n",
       "      <th>caps_diff</th>\n",
       "      <th>jaccard</th>\n",
       "      <th>leven_dist</th>\n",
       "      <th>duplicate</th>\n",
       "      <th>is_train</th>\n",
       "    </tr>\n",
       "  </thead>\n",
       "  <tbody>\n",
       "    <tr>\n",
       "      <th>0</th>\n",
       "      <td>2</td>\n",
       "      <td>0.047619</td>\n",
       "      <td>9</td>\n",
       "      <td>0</td>\n",
       "      <td>1.166667</td>\n",
       "      <td>9</td>\n",
       "      <td>0</td>\n",
       "      <td>True</td>\n",
       "    </tr>\n",
       "    <tr>\n",
       "      <th>1</th>\n",
       "      <td>5</td>\n",
       "      <td>0.346154</td>\n",
       "      <td>37</td>\n",
       "      <td>0</td>\n",
       "      <td>0.312500</td>\n",
       "      <td>43</td>\n",
       "      <td>0</td>\n",
       "      <td>True</td>\n",
       "    </tr>\n",
       "    <tr>\n",
       "      <th>2</th>\n",
       "      <td>4</td>\n",
       "      <td>0.714286</td>\n",
       "      <td>14</td>\n",
       "      <td>0</td>\n",
       "      <td>0.142857</td>\n",
       "      <td>40</td>\n",
       "      <td>0</td>\n",
       "      <td>True</td>\n",
       "    </tr>\n",
       "    <tr>\n",
       "      <th>3</th>\n",
       "      <td>2</td>\n",
       "      <td>2.696970</td>\n",
       "      <td>15</td>\n",
       "      <td>3</td>\n",
       "      <td>0.000000</td>\n",
       "      <td>54</td>\n",
       "      <td>0</td>\n",
       "      <td>False</td>\n",
       "    </tr>\n",
       "    <tr>\n",
       "      <th>4</th>\n",
       "      <td>6</td>\n",
       "      <td>0.208791</td>\n",
       "      <td>37</td>\n",
       "      <td>0</td>\n",
       "      <td>0.111111</td>\n",
       "      <td>53</td>\n",
       "      <td>0</td>\n",
       "      <td>True</td>\n",
       "    </tr>\n",
       "  </tbody>\n",
       "</table>\n",
       "</div>"
      ],
      "text/plain": [
       "   word_len_diff  avg_word_len_diff  char_diff  caps_diff   jaccard  \\\n",
       "0              2           0.047619          9          0  1.166667   \n",
       "1              5           0.346154         37          0  0.312500   \n",
       "2              4           0.714286         14          0  0.142857   \n",
       "3              2           2.696970         15          3  0.000000   \n",
       "4              6           0.208791         37          0  0.111111   \n",
       "\n",
       "   leven_dist  duplicate  is_train  \n",
       "0           9          0      True  \n",
       "1          43          0      True  \n",
       "2          40          0      True  \n",
       "3          54          0     False  \n",
       "4          53          0      True  "
      ]
     },
     "execution_count": 13,
     "metadata": {},
     "output_type": "execute_result"
    }
   ],
   "source": [
    "classic_feat.head()"
   ]
  },
  {
   "cell_type": "code",
   "execution_count": 14,
   "metadata": {},
   "outputs": [
    {
     "data": {
      "text/plain": [
       "RandomForestClassifier(bootstrap=True, class_weight={0: 100, 1: 1},\n",
       "            criterion='gini', max_depth=None, max_features='auto',\n",
       "            max_leaf_nodes=None, min_impurity_decrease=0.0,\n",
       "            min_impurity_split=None, min_samples_leaf=1,\n",
       "            min_samples_split=2, min_weight_fraction_leaf=0.0,\n",
       "            n_estimators=200, n_jobs=1, oob_score=False, random_state=0,\n",
       "            verbose=0, warm_start=False)"
      ]
     },
     "execution_count": 14,
     "metadata": {},
     "output_type": "execute_result"
    }
   ],
   "source": []
  },
  {
   "cell_type": "code",
   "execution_count": 15,
   "metadata": {},
   "outputs": [
    {
     "data": {
      "text/plain": [
       "array([0, 0, 0, ..., 1, 0, 1], dtype=int64)"
      ]
     },
     "execution_count": 15,
     "metadata": {},
     "output_type": "execute_result"
    }
   ],
   "source": [
    "\n",
    "yhat"
   ]
  },
  {
   "cell_type": "code",
   "execution_count": 16,
   "metadata": {
    "scrolled": true
   },
   "outputs": [
    {
     "data": {
      "text/plain": [
       "array([[ 1.        ,  0.        ],\n",
       "       [ 0.745     ,  0.255     ],\n",
       "       [ 1.        ,  0.        ],\n",
       "       ..., \n",
       "       [ 0.45      ,  0.55      ],\n",
       "       [ 1.        ,  0.        ],\n",
       "       [ 0.11965707,  0.88034293]])"
      ]
     },
     "execution_count": 16,
     "metadata": {},
     "output_type": "execute_result"
    }
   ],
   "source": [
    "# The predicted probabilities that questions will not be duplicates (=0) or duplicates (=1)\n",
    "clf.predict_proba(test[features])"
   ]
  },
  {
   "cell_type": "code",
   "execution_count": 17,
   "metadata": {},
   "outputs": [
    {
     "data": {
      "text/html": [
       "<div>\n",
       "<style>\n",
       "    .dataframe thead tr:only-child th {\n",
       "        text-align: right;\n",
       "    }\n",
       "\n",
       "    .dataframe thead th {\n",
       "        text-align: left;\n",
       "    }\n",
       "\n",
       "    .dataframe tbody tr th {\n",
       "        vertical-align: top;\n",
       "    }\n",
       "</style>\n",
       "<table border=\"1\" class=\"dataframe\">\n",
       "  <thead>\n",
       "    <tr style=\"text-align: right;\">\n",
       "      <th>Predicted Duplicate Qns</th>\n",
       "      <th>0</th>\n",
       "      <th>1</th>\n",
       "    </tr>\n",
       "    <tr>\n",
       "      <th>Actual Duplicate Qns</th>\n",
       "      <th></th>\n",
       "      <th></th>\n",
       "    </tr>\n",
       "  </thead>\n",
       "  <tbody>\n",
       "    <tr>\n",
       "      <th>0</th>\n",
       "      <td>49741</td>\n",
       "      <td>13897</td>\n",
       "    </tr>\n",
       "    <tr>\n",
       "      <th>1</th>\n",
       "      <td>18754</td>\n",
       "      <td>18524</td>\n",
       "    </tr>\n",
       "  </tbody>\n",
       "</table>\n",
       "</div>"
      ],
      "text/plain": [
       "Predicted Duplicate Qns      0      1\n",
       "Actual Duplicate Qns                 \n",
       "0                        49741  13897\n",
       "1                        18754  18524"
      ]
     },
     "execution_count": 17,
     "metadata": {},
     "output_type": "execute_result"
    }
   ],
   "source": [
    "# Confusion matrix\n",
    "pd.crosstab(test['duplicate'], yhat, rownames=['Actual Duplicate Qns'], colnames=['Predicted Duplicate Qns'])"
   ]
  },
  {
   "cell_type": "code",
   "execution_count": 18,
   "metadata": {
    "collapsed": true,
    "scrolled": false
   },
   "outputs": [],
   "source": [
    "# Obtain the relative importance of the features\n",
    "# list(zip(train[features], clf.feature_importances_))"
   ]
  },
  {
   "cell_type": "code",
   "execution_count": 19,
   "metadata": {
    "collapsed": true
   },
   "outputs": [],
   "source": [
    "# Make a scorer from a performance metric function\n",
    "dup_scorer = make_scorer(mean_squared_error, greater_is_better=False, needs_proba=True)\n",
    "\n",
    "# Random Forest Classifier Accuracy\n",
    "accuracy_score(test['duplicate'], yhat)\n",
    "\n",
    "# Manual tabulation of accuracy\n",
    "tn, fp, fn, tp = confusion_matrix(test['duplicate'], yhat).ravel()\n",
    "accuracy = (tp+tn)/(tp+tn+fp+fn)"
   ]
  },
  {
   "cell_type": "code",
   "execution_count": 20,
   "metadata": {},
   "outputs": [
    {
     "name": "stdout",
     "output_type": "stream",
     "text": [
      "0.676453684252\n"
     ]
    }
   ],
   "source": [
    "print(accuracy)"
   ]
  },
  {
   "cell_type": "code",
   "execution_count": 21,
   "metadata": {},
   "outputs": [
    {
     "data": {
      "text/plain": [
       "0.5688113182310551"
      ]
     },
     "execution_count": 21,
     "metadata": {},
     "output_type": "execute_result"
    }
   ],
   "source": [
    "rmse = sqrt(mean_squared_error(test['duplicate'], yhat))\n",
    "rmse"
   ]
  }
 ],
 "metadata": {
  "kernelspec": {
   "display_name": "Python 3",
   "language": "python",
   "name": "python3"
  },
  "language_info": {
   "codemirror_mode": {
    "name": "ipython",
    "version": 3
   },
   "file_extension": ".py",
   "mimetype": "text/x-python",
   "name": "python",
   "nbconvert_exporter": "python",
   "pygments_lexer": "ipython3",
   "version": "3.6.3"
  }
 },
 "nbformat": 4,
 "nbformat_minor": 2
}

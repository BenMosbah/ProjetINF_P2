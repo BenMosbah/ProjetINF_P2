{
 "cells": [
  {
   "cell_type": "code",
   "execution_count": 1,
   "metadata": {},
   "outputs": [
    {
     "name": "stderr",
     "output_type": "stream",
     "text": [
      "C:\\Users\\Mohamed\\Anaconda3\\lib\\site-packages\\sklearn\\feature_extraction\\text.py:1089: FutureWarning: Conversion of the second argument of issubdtype from `float` to `np.floating` is deprecated. In future, it will be treated as `np.float64 == np.dtype(float).type`.\n",
      "  if hasattr(X, 'dtype') and np.issubdtype(X.dtype, np.float):\n"
     ]
    }
   ],
   "source": [
    "import numpy as np\n",
    "from sklearn.ensemble import RandomForestClassifier\n",
    "from sklearn.feature_extraction.text import TfidfVectorizer\n",
    "from sklearn.metrics.pairwise import cosine_similarity\n",
    "\n",
    "questions = {}\n",
    "pairs_train = []\n",
    "y_train = []\n",
    "with open('data/train.csv','r',encoding='utf8') as f:\n",
    "    for line in f:\n",
    "        l = line.split(',')\n",
    "        if l[1] not in questions:\n",
    "            questions[l[1]] = l[3]\n",
    "        if l[2] not in questions:\n",
    "            questions[l[2]] = l[4]\n",
    "\n",
    "        pairs_train.append([l[1], l[2]])\n",
    "        y_train.append(int(l[5][:-1]))\n",
    "\n",
    "pairs_test = []\n",
    "with open('data/test.csv','r',encoding='utf8') as f:\n",
    "    for line in f:\n",
    "        l = line.split(',')\n",
    "        if l[1] not in questions:\n",
    "            questions[l[1]] = l[3]\n",
    "        if l[2] not in questions:\n",
    "            questions[l[2]] = l[4][:-1]\n",
    "\n",
    "        pairs_test.append([l[1], l[2]])\n",
    "\n",
    "\n",
    "ids2ind = {}\n",
    "for qid in questions:\n",
    "    ids2ind[qid] = len(ids2ind) \n",
    "\n",
    "vec = TfidfVectorizer()\n",
    "A = vec.fit_transform(questions.values())\n",
    "\n",
    "N_train = len(pairs_train)\n",
    "X_train = np.zeros((N_train, 3))\n",
    "for i in range(len(pairs_train)):\n",
    "    q1 = pairs_train[i][0]\n",
    "    q2 = pairs_train[i][1]\n",
    "    X_train[i,0] = cosine_similarity(A[ids2ind[q1],:], A[ids2ind[q2],:])\n",
    "    X_train[i,1] = len(questions[q1].split()) + len(questions[q2].split())\n",
    "    X_train[i,2] = abs(len(questions[q1].split()) - len(questions[q2].split()))\n",
    "\n",
    "\n",
    "N_test = len(pairs_test)\n",
    "X_test = np.zeros((N_test, 3))\n",
    "for i in range(len(pairs_test)):\n",
    "    q1 = pairs_test[i][0]\n",
    "    q2 = pairs_test[i][1]\n",
    "    X_test[i,0] = cosine_similarity(A[ids2ind[q1],:], A[ids2ind[q2],:])\n",
    "    X_test[i,1] = len(questions[q1].split()) + len(questions[q2].split())\n",
    "    X_test[i,2] = abs(len(questions[q1].split()) - len(questions[q2].split()))\n",
    "\n",
    "clf = RandomForestClassifier(n_estimators=500, max_depth=3, n_jobs=-1)\n",
    "clf.fit(X_train, y_train)\n",
    "y_pred = clf.predict_proba(X_test)\n",
    "\n",
    "with open('submissions/submission_file.csv', 'w') as f:\n",
    "    f.write('Id,Score\\n')\n",
    "    for i in range(y_pred.shape[0]):\n",
    "        f.write(str(i)+','+str(y_pred[i][1])+'\\n')\n"
   ]
  },
  {
   "cell_type": "code",
   "execution_count": null,
   "metadata": {
    "collapsed": true
   },
   "outputs": [],
   "source": []
  }
 ],
 "metadata": {
  "kernelspec": {
   "display_name": "Python 3",
   "language": "python",
   "name": "python3"
  },
  "language_info": {
   "codemirror_mode": {
    "name": "ipython",
    "version": 3
   },
   "file_extension": ".py",
   "mimetype": "text/x-python",
   "name": "python",
   "nbconvert_exporter": "python",
   "pygments_lexer": "ipython3",
   "version": "3.6.2"
  }
 },
 "nbformat": 4,
 "nbformat_minor": 2
}
